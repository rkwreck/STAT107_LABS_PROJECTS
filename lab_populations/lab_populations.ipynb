{
 "cells": [
  {
   "cell_type": "markdown",
   "metadata": {},
   "source": [
    "# Welcome to lab_populations! 👥🌎🌍🌏👥\n",
    "\n",
    "In lecture, you have been learning about both sampling and inference. This is the idea that we can calculate statistics from a random sample of the population and use those statistics to estimate what we would get if we asked every single person in the population a question. \n",
    "\n",
    "The goal of this lab is to gain a more intuitive understanding of what inference is. We will explore sampling from a population and the meaning behind confidence intervals, error, and the Central Limit Theorem (CLT).\n",
    "\n",
    "<hr>\n",
    "\n",
    "A few tips to remember:\n",
    "\n",
    "- **You are not alone on your journey in learning programming!**  You have your lab TA, the CAs, your lab group, and the professors (Prof. Wade and Prof. Karle), who are all here to help you out!\n",
    "- If you find yourself stuck for more than a few minutes, ask a neighbor or course staff for help!  When you are giving help to your neighbor, explain the **idea and approach** to the problem without sharing the answer itself so they can have the same **<i>ah-hah</i>** moment!\n",
    "- We are here to help you!  Don't feel embarrassed or shy to ask us for help!\n",
    "\n",
    "Let's get started!"
   ]
  },
  {
   "cell_type": "code",
   "execution_count": 3,
   "metadata": {},
   "outputs": [],
   "source": [
    "# Meet your CAs and TA if you haven't already!\n",
    "# First name is enough, we'll know who they are! :)\n",
    "ta_name = \"Mallory\"\n",
    "ca1_name = \"Irene\"\n",
    "ca2_name = \"Amelie\"\n",
    "ca3_name = \"\"\n",
    "\n",
    "# Work with your group again this week! \n",
    "# QOTD to Ask Your Group: \"What should the be new UIUC mascot?\"\n",
    "partner1_name = \"\"\n",
    "partner1_netid = \"\"\n",
    "partner1_mascot = \"\"\n",
    "\n",
    "partner2_name = \"\"\n",
    "partner2_netid = \"\"\n",
    "partner2_mascot = \"\"\n",
    "\n",
    "partner3_name = \"\"\n",
    "partner3_netid = \"\"\n",
    "partner3_mascot = \"\""
   ]
  },
  {
   "cell_type": "markdown",
   "metadata": {},
   "source": [
    "<hr style=\"color: #DD3403;\">"
   ]
  },
  {
   "cell_type": "markdown",
   "metadata": {},
   "source": [
    "## Part 1: Sampling the Population\n",
    "\n",
    "The `DISCOVERY_populations` library is included with this lab and contains a **very large** population (over 100,000 students) of current and former University of Illinois students.  We have simulated over 100,000 people for answers to three questions:\n",
    "\n",
    "1. Do you support the Kingfisher as the new Illinois mascot?\n",
    "2. Do you follow @datascienceduo on Instagram?\n",
    "3. Are you a Data Science major?\n",
    "\n",
    "Right now, **we do NOT know the answers for the entire population and there is NO WAY to ask everyone**. Instead, we can only ask a sample of students and get answers for that sample. Run the following code to import the `DISCOVERY_populations` library and retrieve the sample:"
   ]
  },
  {
   "cell_type": "code",
   "execution_count": 4,
   "metadata": {},
   "outputs": [
    {
     "data": {
      "text/html": [
       "<div>\n",
       "<style scoped>\n",
       "    .dataframe tbody tr th:only-of-type {\n",
       "        vertical-align: middle;\n",
       "    }\n",
       "\n",
       "    .dataframe tbody tr th {\n",
       "        vertical-align: top;\n",
       "    }\n",
       "\n",
       "    .dataframe thead th {\n",
       "        text-align: right;\n",
       "    }\n",
       "</style>\n",
       "<table border=\"1\" class=\"dataframe\">\n",
       "  <thead>\n",
       "    <tr style=\"text-align: right;\">\n",
       "      <th></th>\n",
       "      <th>DSmajor</th>\n",
       "      <th>FollowsDuo</th>\n",
       "      <th>ProKingfisher</th>\n",
       "    </tr>\n",
       "  </thead>\n",
       "  <tbody>\n",
       "    <tr>\n",
       "      <th>133810</th>\n",
       "      <td>1</td>\n",
       "      <td>1</td>\n",
       "      <td>1</td>\n",
       "    </tr>\n",
       "    <tr>\n",
       "      <th>14094</th>\n",
       "      <td>0</td>\n",
       "      <td>0</td>\n",
       "      <td>0</td>\n",
       "    </tr>\n",
       "    <tr>\n",
       "      <th>89810</th>\n",
       "      <td>1</td>\n",
       "      <td>1</td>\n",
       "      <td>1</td>\n",
       "    </tr>\n",
       "    <tr>\n",
       "      <th>49764</th>\n",
       "      <td>0</td>\n",
       "      <td>0</td>\n",
       "      <td>1</td>\n",
       "    </tr>\n",
       "    <tr>\n",
       "      <th>160437</th>\n",
       "      <td>1</td>\n",
       "      <td>1</td>\n",
       "      <td>1</td>\n",
       "    </tr>\n",
       "  </tbody>\n",
       "</table>\n",
       "</div>"
      ],
      "text/plain": [
       "        DSmajor  FollowsDuo  ProKingfisher\n",
       "133810        1           1              1\n",
       "14094         0           0              0\n",
       "89810         1           1              1\n",
       "49764         0           0              1\n",
       "160437        1           1              1"
      ]
     },
     "execution_count": 4,
     "metadata": {},
     "output_type": "execute_result"
    }
   ],
   "source": [
    "import DISCOVERY_populations\n",
    "sample = DISCOVERY_populations.getSample()\n",
    "sample.head()"
   ]
  },
  {
   "cell_type": "markdown",
   "metadata": {},
   "source": [
    "### Puzzle 1.1: Statistics about the Sample\n",
    "\n",
    "You have received a **random sample** from the population and it looks like it has three columns: `DSmajor`, `FollowsDuo`, and `ProKingfisher`. Using the `len` function, create a variable `n` that stores the number of people in your sample:"
   ]
  },
  {
   "cell_type": "code",
   "execution_count": 5,
   "metadata": {},
   "outputs": [
    {
     "data": {
      "text/plain": [
       "56"
      ]
     },
     "execution_count": 5,
     "metadata": {},
     "output_type": "execute_result"
    }
   ],
   "source": [
    "n = len(sample['DSmajor'])\n",
    "n"
   ]
  },
  {
   "cell_type": "markdown",
   "metadata": {},
   "source": [
    "We'll first focus on people who follow @datascienceduo -- the people who follow the DUO are coded with a `1` in the sample and the people who do not follow the DUO are coded with a `0`.  \n",
    "\n",
    "In your sample, how many people follow the DUO?"
   ]
  },
  {
   "cell_type": "code",
   "execution_count": 6,
   "metadata": {},
   "outputs": [
    {
     "data": {
      "text/plain": [
       "32"
      ]
     },
     "execution_count": 6,
     "metadata": {},
     "output_type": "execute_result"
    }
   ],
   "source": [
    "followers = len(sample[(sample['FollowsDuo'] == 1)])\n",
    "followers"
   ]
  },
  {
   "cell_type": "code",
   "execution_count": 7,
   "metadata": {},
   "outputs": [
    {
     "name": "stdout",
     "output_type": "stream",
     "text": [
      "🎉 All tests passed! 🎉\n"
     ]
    }
   ],
   "source": [
    "## == CHECKPOINT TEST CASES ==\n",
    "# - This read-only cell contains test cases for your previous cell.\n",
    "# - If this cell runs without any errors, you PASSED all test cases!\n",
    "# - If this cell results in any errors, check your previous cell, make changes, and RE-RUN your code and then this cell.\n",
    "assert(\"sample\" in vars()), \"Check to make sure you have the variable `sample`.\"\n",
    "assert(len(sample) == n), \"Check to make sure `n` stores the number of observations in your sample.\"\n",
    "assert(followers == sum(sample.FollowsDuo)), \"Check to make sure `followers` stores the number of people following @datascienceduo.\"\n",
    "\n",
    "## == SUCCESS MESSAGE ==\n",
    "# You will only see this message (with the emoji showing) if you passed all test cases:\n",
    "tada = \"\\N{PARTY POPPER}\"\n",
    "print(f\"{tada} All tests passed! {tada}\")"
   ]
  },
  {
   "cell_type": "markdown",
   "metadata": {},
   "source": [
    "### Puzzle 1.2: Finding the 95% Confidence Interval for the Percentage of DUO followers\n",
    "\n",
    "We want to estimate what percentage of the population follows @datascienceduo. To do that, we need to use the confidence interval formula you learned in lecture. \n",
    "\n",
    "$$ CI = {Sample \\space Percent} \\pm {Margin \\space of \\space Error}$$\n",
    "$$ {Margin \\space of \\space Error} = {z} \\times {Sample \\space Standard \\space Error} $$\n",
    "\n",
    "Let's work on finding all four of the components we need: `samplePercent`, `marginOfError`, `z`, and `sampleSE`. For this entire puzzle, make sure your percentages (samplePercent and sampleSE) are in **percent form** and not decimal form. In other words, they should be numbers between 0% and 100%.\n",
    "\n",
    "\n",
    "#### Puzzle 1.2(a): Finding `samplePercent`\n",
    "\n",
    " Using the `FollowsDuo` column, store the **percentage of the sample that follow the DUO** in the variable `samplePercent`:\n",
    " \n",
    " *Note: Since the `FollowsDuo` column is encoded so that a `0` is a non-follower and a `1` is a follower, the mean of the column will be a proportion (decimal), but we want to find a **percentage** so make sure to convert your answer to be between 0 and 100 percent.*"
   ]
  },
  {
   "cell_type": "code",
   "execution_count": 8,
   "metadata": {},
   "outputs": [
    {
     "data": {
      "text/plain": [
       "57.14285714285714"
      ]
     },
     "execution_count": 8,
     "metadata": {},
     "output_type": "execute_result"
    }
   ],
   "source": [
    "samplePercent = (followers / n) * 100\n",
    "samplePercent"
   ]
  },
  {
   "cell_type": "code",
   "execution_count": 9,
   "metadata": {},
   "outputs": [
    {
     "name": "stdout",
     "output_type": "stream",
     "text": [
      "🎉 All tests passed! 🎉\n"
     ]
    }
   ],
   "source": [
    "## == CHECKPOINT TEST CASES ==\n",
    "# - This read-only cell contains test cases for your previous cell.\n",
    "# - If this cell runs without any errors, you PASSED all test cases!\n",
    "# - If this cell results in any errors, check your previous cell, make changes, and RE-RUN your code and then this cell.\n",
    "import math\n",
    "F = sample.FollowsDuo\n",
    "assert(math.isclose(samplePercent, F.sum()/n*100)), \"Check your `samplePercent`.\"\n",
    "\n",
    "## == SUCCESS MESSAGE ==\n",
    "# You will only see this message (with the emoji showing) if you passed all test cases:\n",
    "tada = \"\\N{PARTY POPPER}\"\n",
    "print(f\"{tada} All tests passed! {tada}\")"
   ]
  },
  {
   "cell_type": "markdown",
   "metadata": {},
   "source": [
    "#### Puzzle 1.2(b): Finding `z`\n",
    "\n",
    "We want to find the range where we are 95% sure that the true percentage of people who follow the DUO is within that range. Find the z-score we need to use to create a 95% CI:\n",
    "\n",
    "*Hint: Because the sample size is greater than 30 and the sample was randomly selected from the population, we can use the standard normal curve to find the z-score when creating our 95% CI.*"
   ]
  },
  {
   "cell_type": "code",
   "execution_count": 10,
   "metadata": {},
   "outputs": [
    {
     "data": {
      "text/plain": [
       "np.float64(1.959963984540054)"
      ]
     },
     "execution_count": 10,
     "metadata": {},
     "output_type": "execute_result"
    }
   ],
   "source": [
    "from scipy.stats import norm \n",
    "\n",
    "z = norm.ppf(0.975)\n",
    "z"
   ]
  },
  {
   "cell_type": "code",
   "execution_count": 11,
   "metadata": {},
   "outputs": [
    {
     "name": "stdout",
     "output_type": "stream",
     "text": [
      "🎉 All tests passed! 🎉\n"
     ]
    }
   ],
   "source": [
    "## == CHECKPOINT TEST CASES ==\n",
    "# - This read-only cell contains test cases for your previous cell.\n",
    "# - If this cell runs without any errors, you PASSED all test cases!\n",
    "# - If this cell results in any errors, check your previous cell, make changes, and RE-RUN your code and then this cell.\n",
    "assert(math.isclose(abs(z) + abs(z)**abs(z), 5.69931068079139)), \"Check your `z`.\"\n",
    "\n",
    "## == SUCCESS MESSAGE ==\n",
    "# You will only see this message (with the emoji showing) if you passed all test cases:\n",
    "tada = \"\\N{PARTY POPPER}\"\n",
    "print(f\"{tada} All tests passed! {tada}\")\n"
   ]
  },
  {
   "cell_type": "markdown",
   "metadata": {},
   "source": [
    "#### Puzzle 1.2(c): Finding `sampleSE`\n",
    "\n",
    "Finally, we need to find the standard error of the sample as a **percentage**.\n",
    "\n",
    "Remember: $SE_{\\%} = \\frac{SD}{\\sqrt{n}} * 100\\%$, where $SE$ is standard error, $SD$ is standard deviation, and $n$ is the sample size. "
   ]
  },
  {
   "cell_type": "code",
   "execution_count": 12,
   "metadata": {},
   "outputs": [
    {
     "data": {
      "text/plain": [
       "np.float64(6.672848092813053)"
      ]
     },
     "execution_count": 12,
     "metadata": {},
     "output_type": "execute_result"
    }
   ],
   "source": [
    "sampleSE = (sample['FollowsDuo'].std() / (n ** 0.5)) * 100 \n",
    "sampleSE"
   ]
  },
  {
   "cell_type": "code",
   "execution_count": 13,
   "metadata": {},
   "outputs": [
    {
     "name": "stdout",
     "output_type": "stream",
     "text": [
      "🎉 All tests passed! 🎉\n"
     ]
    }
   ],
   "source": [
    "## == CHECKPOINT TEST CASES ==\n",
    "# - This read-only cell contains test cases for your previous cell.\n",
    "# - If this cell runs without any errors, you PASSED all test cases!\n",
    "# - If this cell results in any errors, check your previous cell, make changes, and RE-RUN your code and then this cell.\n",
    "assert(math.isclose(sampleSE, (n / F.var())**-0.5 * 100)), \"Check your `sampleSE`.\"\n",
    "\n",
    "## == SUCCESS MESSAGE ==\n",
    "# You will only see this message (with the emoji showing) if you passed all test cases:\n",
    "tada = \"\\N{PARTY POPPER}\"\n",
    "print(f\"{tada} All tests passed! {tada}\")"
   ]
  },
  {
   "cell_type": "markdown",
   "metadata": {},
   "source": [
    "#### Puzzle 1.2(d): Finding `marginOfError`\n",
    "\n",
    "Finally, we need to find the margin of error.\n"
   ]
  },
  {
   "cell_type": "code",
   "execution_count": 14,
   "metadata": {},
   "outputs": [
    {
     "data": {
      "text/plain": [
       "13.078541936220372"
      ]
     },
     "execution_count": 14,
     "metadata": {},
     "output_type": "execute_result"
    }
   ],
   "source": [
    "marginOfError = (z * sampleSE).item()\n",
    "marginOfError"
   ]
  },
  {
   "cell_type": "code",
   "execution_count": 15,
   "metadata": {},
   "outputs": [
    {
     "name": "stdout",
     "output_type": "stream",
     "text": [
      "🎉 All tests passed! 🎉\n"
     ]
    }
   ],
   "source": [
    "## == CHECKPOINT TEST CASES ==\n",
    "# - This read-only cell contains test cases for your previous cell.\n",
    "# - If this cell runs without any errors, you PASSED all test cases!\n",
    "# - If this cell results in any errors, check your previous cell, make changes, and RE-RUN your code and then this cell.\n",
    "assert(math.isclose((n / F.var())**-0.5 * 100, marginOfError/z)), \"Check your `marginOfError`.\"\n",
    "\n",
    "## == SUCCESS MESSAGE ==\n",
    "# You will only see this message (with the emoji showing) if you passed all test cases:\n",
    "tada = \"\\N{PARTY POPPER}\"\n",
    "print(f\"{tada} All tests passed! {tada}\")"
   ]
  },
  {
   "cell_type": "markdown",
   "metadata": {},
   "source": [
    "### Puzzle 1.3: Finding the Confidence Interval\n",
    "\n",
    "The formula for the confidence interval has both a \"lower bound\" (when you subtract the margin of error from the sample average) and an \"upper bound\" (when you add the margin of error to the sample average). Recall the formula you learned in lecture:\n",
    "\n",
    "$$ CI = {Sample \\space Percent} \\pm ({z} \\times {Sample \\space Standard \\space Error})$$\n",
    "$$ aka $$\n",
    "$$ CI = {Sample \\space Percent} \\pm {Margin \\space of \\space Error}$$\n",
    "\n",
    "\n",
    "Using the variables you just calculated in the previous section, find the `lower_bound_CI` and `upper_bound_CI` of your confidence interval:"
   ]
  },
  {
   "cell_type": "code",
   "execution_count": 16,
   "metadata": {},
   "outputs": [
    {
     "data": {
      "text/plain": [
       "44.06431520663676"
      ]
     },
     "execution_count": 16,
     "metadata": {},
     "output_type": "execute_result"
    }
   ],
   "source": [
    "lower_bound_CI = samplePercent - marginOfError\n",
    "lower_bound_CI"
   ]
  },
  {
   "cell_type": "code",
   "execution_count": 17,
   "metadata": {},
   "outputs": [
    {
     "data": {
      "text/plain": [
       "70.22139907907751"
      ]
     },
     "execution_count": 17,
     "metadata": {},
     "output_type": "execute_result"
    }
   ],
   "source": [
    "upper_bound_CI = samplePercent + marginOfError\n",
    "upper_bound_CI"
   ]
  },
  {
   "cell_type": "markdown",
   "metadata": {},
   "source": [
    "Putting it all together, run the following code that will write out your full confidence interval interpretation:"
   ]
  },
  {
   "cell_type": "code",
   "execution_count": 18,
   "metadata": {},
   "outputs": [
    {
     "name": "stdout",
     "output_type": "stream",
     "text": [
      "Based on the sample, we are 95% confident that the true percentage of followers of @datascienceduo in the full population is between:\n",
      "   44.06% - 70.22%\n"
     ]
    }
   ],
   "source": [
    "print(f\"Based on the sample, we are 95% confident that the true percentage of followers of @datascienceduo in the full population is between:\\n   {round(lower_bound_CI, 2)}% - {round(upper_bound_CI, 2)}%\")"
   ]
  },
  {
   "cell_type": "markdown",
   "metadata": {},
   "source": [
    "### Reflections"
   ]
  },
  {
   "cell_type": "markdown",
   "metadata": {},
   "source": [
    "**Q1**: Talk to your group members and share your confidence intervals.\n",
    "- (a): What is the confidence interval of another group member's sample?\n",
    "- (b): Is it the same or different?\n",
    "- (c): Why is it okay that it's the same or different?"
   ]
  },
  {
   "cell_type": "markdown",
   "metadata": {},
   "source": [
    "(I wasn't at lab since I had registration at the same time. I texted my group members for these questions). \n",
    "\n",
    "The confidence interval of another group member's sample is 44.02% – 69.31%. This is slightly different from my confidence interval, which was 44.06% - 70.22%. It is okay that these confidence intervals are different because they are still close in number. The difference comes because we could have different samples of people selected above. \n"
   ]
  },
  {
   "cell_type": "markdown",
   "metadata": {},
   "source": [
    "**Q2**: Given your confidence interval you calculated, what statement can you make about whether or not at least 50% of the population follow @datascienceduo?"
   ]
  },
  {
   "cell_type": "markdown",
   "metadata": {},
   "source": [
    "My confidence interval is 44.06% – 70.22%. Since this range includes 50%, it is possible that at least 50% of the population follows @datascienceduo, but there is no guarantee since the range also includes values from less than 50%, so it is also possible that less than 50% of the population follows @datasciendeduo. "
   ]
  },
  {
   "cell_type": "markdown",
   "metadata": {},
   "source": [
    "### Population Analysis"
   ]
  },
  {
   "cell_type": "markdown",
   "metadata": {},
   "source": [
    "**Q3**: Suppose the entire population is exactly 1,000,000 people.\n",
    "\n",
    "Professor Karle and Wade wants a good estimate of the **minimum number of people** who are likely following the DUO.  If you want to be **95% certain** in your answer you're giving to the professors, what is the minimum number of people you would claim to be following the DUO?\n",
    "\n",
    "\n",
    "First, explain in at least one sentence how you will calculate this result using your confidence interval from above (with words, not code).  Then, calculate it and include your answer in the Python cell below."
   ]
  },
  {
   "cell_type": "markdown",
   "metadata": {},
   "source": [
    "To get the minimum number of people, we need the lower confidence interval. "
   ]
  },
  {
   "cell_type": "markdown",
   "metadata": {},
   "source": [
    "The lower confidence interval is 44.06%. We can find 44.06% of 1,000,000 people to find the minimum number of people that are likely following the duo. "
   ]
  },
  {
   "cell_type": "code",
   "execution_count": 47,
   "metadata": {},
   "outputs": [
    {
     "data": {
      "text/plain": [
       "440600.00000000006"
      ]
     },
     "execution_count": 47,
     "metadata": {},
     "output_type": "execute_result"
    }
   ],
   "source": [
    "# 95% confident that AT LEAST this many people are following the DUO in a population of 1,000,000:\n",
    "min_people = (44.06 / 100) * (1000000)\n",
    "min_people"
   ]
  },
  {
   "cell_type": "markdown",
   "metadata": {},
   "source": [
    "<hr style=\"color: #DD3403;\">"
   ]
  },
  {
   "cell_type": "markdown",
   "metadata": {},
   "source": [
    "## Part 2: Towards a Smaller Margin of Error"
   ]
  },
  {
   "cell_type": "markdown",
   "metadata": {},
   "source": [
    "The number of followers of @datascienceduo is fun, but the large margin of error you had is a little alarming.  For really important issues, we want a smaller margin of error in our sample."
   ]
  },
  {
   "cell_type": "markdown",
   "metadata": {},
   "source": [
    "**Q4**: What are at least **TWO** things we can do as a data scientist to reduce the margin of error?"
   ]
  },
  {
   "cell_type": "markdown",
   "metadata": {},
   "source": [
    "To reduce the margin of error, we can increase the sample size to make the sample more representative of the population. We could also use a lower confidence level, because that will create a more narrow confidence interval which decreases the space for the margin of error."
   ]
  },
  {
   "cell_type": "markdown",
   "metadata": {},
   "source": [
    "### Part 2.1: An Expensive Sample\n",
    "\n",
    "The issue of making the UIUC mascot the Kingfisher is a big one, so we'll want to make sure we get an accurate representation of the UIUC population. Taking a large sample requires surveying more people and getting more responses, which is almost always more expensive.  In the `DISCOVERY_populations` library you imported in Part 1, we have a second function: `getExpensiveSample()`.\n",
    "\n",
    "The following code gets a larger and more expensive sample and stores it in `sample2`:"
   ]
  },
  {
   "cell_type": "code",
   "execution_count": 20,
   "metadata": {},
   "outputs": [
    {
     "data": {
      "text/html": [
       "<div>\n",
       "<style scoped>\n",
       "    .dataframe tbody tr th:only-of-type {\n",
       "        vertical-align: middle;\n",
       "    }\n",
       "\n",
       "    .dataframe tbody tr th {\n",
       "        vertical-align: top;\n",
       "    }\n",
       "\n",
       "    .dataframe thead th {\n",
       "        text-align: right;\n",
       "    }\n",
       "</style>\n",
       "<table border=\"1\" class=\"dataframe\">\n",
       "  <thead>\n",
       "    <tr style=\"text-align: right;\">\n",
       "      <th></th>\n",
       "      <th>DSmajor</th>\n",
       "      <th>FollowsDuo</th>\n",
       "      <th>ProKingfisher</th>\n",
       "    </tr>\n",
       "  </thead>\n",
       "  <tbody>\n",
       "    <tr>\n",
       "      <th>181460</th>\n",
       "      <td>0</td>\n",
       "      <td>0</td>\n",
       "      <td>1</td>\n",
       "    </tr>\n",
       "    <tr>\n",
       "      <th>194590</th>\n",
       "      <td>0</td>\n",
       "      <td>0</td>\n",
       "      <td>0</td>\n",
       "    </tr>\n",
       "    <tr>\n",
       "      <th>197501</th>\n",
       "      <td>1</td>\n",
       "      <td>1</td>\n",
       "      <td>1</td>\n",
       "    </tr>\n",
       "    <tr>\n",
       "      <th>79227</th>\n",
       "      <td>1</td>\n",
       "      <td>1</td>\n",
       "      <td>1</td>\n",
       "    </tr>\n",
       "    <tr>\n",
       "      <th>177555</th>\n",
       "      <td>0</td>\n",
       "      <td>0</td>\n",
       "      <td>1</td>\n",
       "    </tr>\n",
       "    <tr>\n",
       "      <th>...</th>\n",
       "      <td>...</td>\n",
       "      <td>...</td>\n",
       "      <td>...</td>\n",
       "    </tr>\n",
       "    <tr>\n",
       "      <th>99892</th>\n",
       "      <td>0</td>\n",
       "      <td>0</td>\n",
       "      <td>0</td>\n",
       "    </tr>\n",
       "    <tr>\n",
       "      <th>39401</th>\n",
       "      <td>1</td>\n",
       "      <td>1</td>\n",
       "      <td>1</td>\n",
       "    </tr>\n",
       "    <tr>\n",
       "      <th>6653</th>\n",
       "      <td>0</td>\n",
       "      <td>0</td>\n",
       "      <td>1</td>\n",
       "    </tr>\n",
       "    <tr>\n",
       "      <th>88941</th>\n",
       "      <td>1</td>\n",
       "      <td>1</td>\n",
       "      <td>1</td>\n",
       "    </tr>\n",
       "    <tr>\n",
       "      <th>83220</th>\n",
       "      <td>1</td>\n",
       "      <td>1</td>\n",
       "      <td>1</td>\n",
       "    </tr>\n",
       "  </tbody>\n",
       "</table>\n",
       "<p>1024 rows × 3 columns</p>\n",
       "</div>"
      ],
      "text/plain": [
       "        DSmajor  FollowsDuo  ProKingfisher\n",
       "181460        0           0              1\n",
       "194590        0           0              0\n",
       "197501        1           1              1\n",
       "79227         1           1              1\n",
       "177555        0           0              1\n",
       "...         ...         ...            ...\n",
       "99892         0           0              0\n",
       "39401         1           1              1\n",
       "6653          0           0              1\n",
       "88941         1           1              1\n",
       "83220         1           1              1\n",
       "\n",
       "[1024 rows x 3 columns]"
      ]
     },
     "execution_count": 20,
     "metadata": {},
     "output_type": "execute_result"
    }
   ],
   "source": [
    "sample2 = DISCOVERY_populations.getExpensiveSample()\n",
    "sample2"
   ]
  },
  {
   "cell_type": "markdown",
   "metadata": {},
   "source": [
    "### Part 2.2: Finding the Confidence Interval for Kingfisher Support\n",
    "\n",
    "Find the lower and upper bounds for the 99% CI for the support of the Kingfisher mascot, storing them in `kingfisher_CI_lower` and `kingfisher_CI_upper`.  We provided individual cells for each stage of the computation, and you should make sure your answer is reasonable at each step. We also want your answers as **percentages between 0 and 100 percent**.\n",
    "\n",
    "Make sure you're using `sample2` since you have the better, more expensive sample now! :)"
   ]
  },
  {
   "cell_type": "code",
   "execution_count": 29,
   "metadata": {},
   "outputs": [
    {
     "data": {
      "text/plain": [
       "70.80078125"
      ]
     },
     "execution_count": 29,
     "metadata": {},
     "output_type": "execute_result"
    }
   ],
   "source": [
    "# Step 1: Find the samplePercent:\n",
    "n2 = len(sample2['ProKingfisher'])\n",
    "\n",
    "followers2 = len(sample2[(sample2['ProKingfisher'] == 1)])\n",
    "\n",
    "samplePercent2 = (followers2 / n2) * 100\n",
    "samplePercent2"
   ]
  },
  {
   "cell_type": "code",
   "execution_count": 32,
   "metadata": {},
   "outputs": [
    {
     "data": {
      "text/plain": [
       "2.5758293035489004"
      ]
     },
     "execution_count": 32,
     "metadata": {},
     "output_type": "execute_result"
    }
   ],
   "source": [
    "# Step 2: Find the z-score for the 99% CI and store it in `z2`:\n",
    "z2 = norm.ppf(0.995).item()\n",
    "z2"
   ]
  },
  {
   "cell_type": "code",
   "execution_count": 41,
   "metadata": {},
   "outputs": [
    {
     "data": {
      "text/plain": [
       "1.4215653328262132"
      ]
     },
     "execution_count": 41,
     "metadata": {},
     "output_type": "execute_result"
    }
   ],
   "source": [
    "# Step 3: Find the sampleSE:\n",
    "sampleSE2 = ((sample2['ProKingfisher'].std() / (n2 ** 0.5)) * 100).item()\n",
    "sampleSE2"
   ]
  },
  {
   "cell_type": "code",
   "execution_count": 42,
   "metadata": {},
   "outputs": [
    {
     "data": {
      "text/plain": [
       "3.6617096412030055"
      ]
     },
     "execution_count": 42,
     "metadata": {},
     "output_type": "execute_result"
    }
   ],
   "source": [
    "# Step 4: Find the margin of error:\n",
    "moe2 = (z2 * sampleSE2)\n",
    "moe2"
   ]
  },
  {
   "cell_type": "code",
   "execution_count": 48,
   "metadata": {},
   "outputs": [
    {
     "data": {
      "text/plain": [
       "67.139071608797"
      ]
     },
     "execution_count": 48,
     "metadata": {},
     "output_type": "execute_result"
    }
   ],
   "source": [
    "# Find the lower bound of the CI:\n",
    "kingfisher_CI_lower = samplePercent2 - moe2\n",
    "kingfisher_CI_lower"
   ]
  },
  {
   "cell_type": "code",
   "execution_count": 49,
   "metadata": {},
   "outputs": [
    {
     "data": {
      "text/plain": [
       "74.462490891203"
      ]
     },
     "execution_count": 49,
     "metadata": {},
     "output_type": "execute_result"
    }
   ],
   "source": [
    "# Find the upper bound of the CI:\n",
    "kingfisher_CI_upper = samplePercent2 + moe2\n",
    "kingfisher_CI_upper"
   ]
  },
  {
   "cell_type": "code",
   "execution_count": 46,
   "metadata": {},
   "outputs": [
    {
     "name": "stdout",
     "output_type": "stream",
     "text": [
      "🎉 All tests passed! 🎉\n"
     ]
    }
   ],
   "source": [
    "## == CHECKPOINT TEST CASES ==\n",
    "# - This read-only cell contains test cases for your previous cell.\n",
    "# - If this cell runs without any errors, you PASSED all test cases!\n",
    "# - If this cell results in any errors, check your previous cell, make changes, and RE-RUN your code and then this cell.\n",
    "import math\n",
    "from scipy.stats import norm\n",
    "\n",
    "F = sample2.ProKingfisher\n",
    "N = norm(F.mean(), F.std() / (len(F)**0.5))\n",
    "low, high = N.interval(0.99)\n",
    "assert( math.isclose(z2, 2.5758293035489004) ), \"Check your Z-score for a 99% CI.\"\n",
    "assert(kingfisher_CI_upper > kingfisher_CI_lower), \"The upper bound must be larger than the lower bound.\"\n",
    "assert( math.isclose(kingfisher_CI_lower, low * 100) ), \"Check your `kingfisher_CI_lower` calculation.\"\n",
    "assert( math.isclose(kingfisher_CI_upper, high * 100) ), \"Check your `kingfisher_CI_upper` calculation.\"\n",
    "\n",
    "## == SUCCESS MESSAGE ==\n",
    "# You will only see this message (with the emoji showing) if you passed all test cases:\n",
    "tada = \"\\N{PARTY POPPER}\"\n",
    "print(f\"{tada} All tests passed! {tada}\")"
   ]
  },
  {
   "cell_type": "markdown",
   "metadata": {},
   "source": [
    "### Part 2.3: Reflections"
   ]
  },
  {
   "cell_type": "markdown",
   "metadata": {},
   "source": [
    "**Q5**: Write out the interpretation of your confidence interval in a complete sentence."
   ]
  },
  {
   "cell_type": "markdown",
   "metadata": {},
   "source": [
    "We are 99% confident that the number of people at UIUC who want to make the UIUC mascot the Kingfisher is between 67.14% of the population and 74.46% of the population. \n"
   ]
  },
  {
   "cell_type": "markdown",
   "metadata": {},
   "source": [
    "**Q6**: If the whole population voted on if the next mascot should be the Kingfisher, how confident are you that the resolution will pass (that is, receive at least 50% of the vote)? Explain in at least one complete sentence how the data analysis you did backs up your confidence."
   ]
  },
  {
   "cell_type": "markdown",
   "metadata": {},
   "source": [
    "We can be very confident that the resolution will pass if the whole population voted on if the next mascot should be the Kingfisher. Our confidence interval is 67.14% - 74.46% of people at UIUC. All values in this range are above 50%, so we can be 99% confident that the resolution will receive at least 50% of the vote and pass. "
   ]
  },
  {
   "cell_type": "markdown",
   "metadata": {},
   "source": [
    "**Q7**: Is the confidence interval of your larger (and more expensive) sample larger (wider) or smaller (narrower) than the first sample?  Why or why not?  Explain in at least one complete sentence."
   ]
  },
  {
   "cell_type": "markdown",
   "metadata": {},
   "source": [
    "The confidence interval of my larger and more expensive sample is narrower than the first sample. Usually, increasing the confidence level will widen the interval since we have more margin of error, but in this case, we are working with two different samples. The first sample focused on people who followed / didn't follow the datascienceduo, while the second sample focused on people who supported / didn't support the Kingfisher mascot. These samples could have different variability that can affect how wide/narrow the confidence interval is. "
   ]
  },
  {
   "cell_type": "markdown",
   "metadata": {},
   "source": [
    "<hr style=\"color: #DD3403;\">"
   ]
  },
  {
   "cell_type": "markdown",
   "metadata": {},
   "source": [
    "## Part 3: The Election is Here!\n",
    "\n",
    "The polling is complete and the election day is here!  Run the following code to find your election-day results:"
   ]
  },
  {
   "cell_type": "code",
   "execution_count": 50,
   "metadata": {},
   "outputs": [
    {
     "name": "stdout",
     "output_type": "stream",
     "text": [
      "The election was held and 21% of the population voted.\n",
      "\n",
      "== Kingfisher Support ==\n",
      "SUPPORT KINGFISHER: 29387 69.97%\n",
      "OPPOSE KINGFISHER : 12613 30.03%\n",
      "\n",
      "== Follows @datascienceduo ==\n",
      "FOLLOWS DUO    : 21797 51.9%\n",
      "DOES NOT FOLLOW: 20203 48.1%\n"
     ]
    }
   ],
   "source": [
    "DISCOVERY_populations.electionDay()"
   ]
  },
  {
   "cell_type": "markdown",
   "metadata": {},
   "source": [
    "**Q8**: In at least one complete sentence, explain if your analysis of the samples accurately predicted the outcomes."
   ]
  },
  {
   "cell_type": "markdown",
   "metadata": {},
   "source": [
    "My confidence interval for Follows @datascienceduo is 44.06% – 70.22%, which correctly contains the outcome 51.9% of people follows @datascienceduo. \n",
    "\n",
    "My confidence interval for Kingfisher Support is 67.14% – 74.46%, which correctly contains the outcome 69.97% of people that support the Kingfisher mascot."
   ]
  },
  {
   "cell_type": "markdown",
   "metadata": {},
   "source": [
    "<hr style=\"color: #DD3403;\">"
   ]
  },
  {
   "cell_type": "markdown",
   "metadata": {},
   "source": [
    "# Submission\n",
    "\n",
    "You're almost done!  All you need to do is to commit your lab to GitHub:\n",
    "\n",
    "1.  ⚠️ **Make certain to save your work.** ⚠️ To do this, go to **File => Save All**\n",
    "\n",
    "2.  After you have saved, exit this notebook and follow the Canvas instructions to commit this lab to your Git repository!\n",
    "\n",
    "3. Your TA will grade your submission and provide you feedback after the lab is due. :)"
   ]
  }
 ],
 "metadata": {
  "kernelspec": {
   "display_name": "Python 3",
   "language": "python",
   "name": "python3"
  },
  "language_info": {
   "codemirror_mode": {
    "name": "ipython",
    "version": 3
   },
   "file_extension": ".py",
   "mimetype": "text/x-python",
   "name": "python",
   "nbconvert_exporter": "python",
   "pygments_lexer": "ipython3",
   "version": "3.12.5"
  }
 },
 "nbformat": 4,
 "nbformat_minor": 2
}
