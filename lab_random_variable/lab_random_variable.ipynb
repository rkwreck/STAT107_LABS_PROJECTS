{
 "cells": [
  {
   "attachments": {},
   "cell_type": "markdown",
   "metadata": {},
   "source": [
    "# Lab: Random Variable 💯\n",
    "\n",
    "In statistics and data science, random variables are used to model events that have uncertain outcomes.  For example, in DISCOVERY, we explore the **binomial distribution** to model flipping a coin, drawing from a deck of cards, guessing on a multiple choice exam, and many other events with a single, fixed probability of success.  However, what if there are multiple different outcomes?  This lab will explore creating custom discrete distributions in Python to model complex events!\n",
    "\n",
    "In this lab, you will explore a dataset of the real final scores of students in DISCOVERY!  Before we get to that, let's nerd out with the basics of a distribution! :)\n",
    "\n",
    "\n",
    "A few tips to remember:\n",
    "\n",
    "- **You are not alone on your journey in learning programming!**  You have your lab Teaching Assistant, your Course Aides, your lab group, and the professors (Prof. Wade and Prof. Karle), who are all here to help you out!\n",
    "- If you find yourself stuck for more than a few minutes, ask a neighbor or course staff for help!  When you are giving help to your neighbor, explain the **idea and approach** to the problem without sharing the answer itself so they can have the same **<i>ah-hah</i>** moment!\n",
    "- We are here to help you!  Don't feel embarrassed or shy to ask us for help!\n",
    "\n",
    "Let's get started!"
   ]
  },
  {
   "cell_type": "code",
   "execution_count": 88,
   "metadata": {},
   "outputs": [],
   "source": [
    "# Meet your CAs and TA if you haven't already!\n",
    "# First name is enough, we'll know who they are! :)\n",
    "ta_name = \"Mallory\"\n",
    "ca1_name = \"Irene\"\n",
    "ca2_name = \"Amelie\"\n",
    "ca3_name = \"\"\n",
    "\n",
    "# Say hello to each other!\n",
    "# - Groups of 3 are ideal :)\n",
    "# - However, groups of 2 or 4 are fine too!\n",
    "#\n",
    "# QOTD to Ask Your Group: \"What's your favorite RSO on campus?\"\n",
    "partner1_name = \"Joanna\"\n",
    "partner1_netid = \"joannaz4\"\n",
    "partner1_rso = \"Flippin' Illini\"\n",
    "\n",
    "partner2_name = \"Angelina\"\n",
    "partner2_netid = \"ay25\"\n",
    "partner2_rso = \"Roselle\"\n",
    "\n",
    "partner3_name = \"Conner\"\n",
    "partner3_netid = \"connerv2\"\n",
    "partner3_rso = \"Pickleball Club\""
   ]
  },
  {
   "attachments": {},
   "cell_type": "markdown",
   "metadata": {},
   "source": [
    "<hr style=\"color: #DD3403;\">"
   ]
  },
  {
   "attachments": {},
   "cell_type": "markdown",
   "metadata": {},
   "source": [
    "## Random Variable #1: Modeling Flipping a Coin Twice\n",
    "\n",
    "In DISCOVERY, we introduce flipping a coin twice as an example binomial distribution.  Create a variable that contains a binomial distribution called `COIN` that models the distribution of the number of heads we see when we flip a coin two times:\n",
    "\n",
    "(Not sure?  Check out the DISCOVERY page on \"Python Functions for Random Distributions\" here:\n",
    "https://discovery.cs.illinois.edu/learn/Polling-Confidence-Intervals-and-Hypothesis-Testing/Python-Functions-for-Random-Distributions/)"
   ]
  },
  {
   "cell_type": "code",
   "execution_count": 89,
   "metadata": {},
   "outputs": [
    {
     "data": {
      "text/plain": [
       "<scipy.stats._distn_infrastructure.rv_discrete_frozen at 0x17f7db9b0>"
      ]
     },
     "execution_count": 89,
     "metadata": {},
     "output_type": "execute_result"
    }
   ],
   "source": [
    "from scipy.stats import binom\n",
    "COIN = binom(p=0.5, n=2)\n",
    "COIN"
   ]
  },
  {
   "attachments": {},
   "cell_type": "markdown",
   "metadata": {},
   "source": [
    "There are three different outcomes of flipping two coins and counting the number of heads:\n",
    "\n",
    "| `COIN` ~ Number of Heads | P(`COIN` = #) |\n",
    "| --------------: | ----------: |\n",
    "| 0 heads | 25% |\n",
    "| 1 head | 50% |\n",
    "| 2 heads | 25% |\n",
    "\n",
    "The **expected value** of the distribution is the weighted sum of the possible results.  This means we need to add together all possible outcomes:\n",
    "\n",
    "- Zero heads, multiplied by the probability of getting zero heads, \n",
    "- One head, multiplied by the probability of getting one head, and\n",
    "- Two heads, multiplied by the probability of getting two heads.\n",
    "\n",
    "Mathematically, we can use the generic formula for the expected value of any discrete distribution:\n",
    "\n",
    "$$EV_{COIN} = ((0\\text{ heads}) * 25\\%) + ((1\\text{ head}) * 50\\%) + ((2\\text{ heads}) * 25\\%)$$\n",
    "\n",
    "\n",
    "Solving the equation:\n",
    "\n",
    "- $EV_{COIN} = ((0\\text{ heads}) * 25\\%) + ((1\\text{ head}) * 50\\%) + ((2\\text{ heads}) * 25\\%)$\n",
    "- $EV_{COIN} = (0\\text{ heads}) + (0.5\\text{ heads}) + (0.5\\text{ heads})$\n",
    "- $EV_{COIN} = 1\\text{ heads}$\n",
    "\n",
    "\n",
    "Alternatively, we can use the simplified formula for binominal variables:\n",
    "\n",
    "$$EV_{binominal} = n * p$$\n",
    "\n",
    "Solving the equation for the `COIN`:\n",
    "\n",
    "- $EV_{COIN} = n * p$, where n=2, and p=0.5\n",
    "- $EV_{COIN} = 2 * 0.5$\n",
    "- $EV_{COIN} = 1\\text{ heads}$\n"
   ]
  },
  {
   "attachments": {},
   "cell_type": "markdown",
   "metadata": {},
   "source": [
    "### Verifying our `COIN` Distribution in Python\n",
    "\n",
    "Use `COIN.mean()` to verify the expected value in Python:"
   ]
  },
  {
   "cell_type": "code",
   "execution_count": 90,
   "metadata": {},
   "outputs": [
    {
     "data": {
      "text/plain": [
       "1.0"
      ]
     },
     "execution_count": 90,
     "metadata": {},
     "output_type": "execute_result"
    }
   ],
   "source": [
    "EV_COIN = COIN.mean().item()\n",
    "EV_COIN"
   ]
  },
  {
   "cell_type": "markdown",
   "metadata": {},
   "source": [
    "### 📝 Technical Note 📝\n",
    "\n",
    "By default, on some configurations, `COIN.mean()` will often give you a non-native value and display something similar to:\n",
    "\n",
    "> ```\n",
    "> np.float64(1.0)\n",
    "> ```\n",
    "\n",
    "You will see this occur when working with scientific libraries that build from a library called `numpy` or `np`.\n",
    "- It's okay to leave the value as a numpy data type, the value does not change.\n",
    "- However, if you find this messy, you can use `.item()` to extract the Python native value out of a numpy data type.\n",
    "\n",
    "For example, if you see np.float64(1.0), the following shows the result of using `.item()`:\n",
    "\n",
    "> > ```py\n",
    "> > COIN.mean()\n",
    "> > ```\n",
    ">\n",
    "> Output: np.float64(1.0)\n",
    ">\n",
    ">\n",
    "> > ```py\n",
    "> > COIN.mean().item()\n",
    "> > ```\n",
    ">\n",
    "> Output: 1.0\n",
    "\n",
    "All of the test cases in this lab will support either both numpy data types and Python primitive data types, so do whatever one you think looks the best! :)"
   ]
  },
  {
   "attachments": {},
   "cell_type": "markdown",
   "metadata": {},
   "source": [
    "### 🔬 Checkpoint Tests 🔬"
   ]
  },
  {
   "cell_type": "code",
   "execution_count": 91,
   "metadata": {},
   "outputs": [
    {
     "name": "stdout",
     "output_type": "stream",
     "text": [
      "🎉 All Tests Passed! 🎉\n"
     ]
    }
   ],
   "source": [
    "### TEST CASE for Random Variable #1: Modeling Flipping a Coin Twice\n",
    "tada = \"\\N{PARTY POPPER}\"\n",
    "import math\n",
    "assert(\"COIN\" in vars()), \"Make sure your random variable is named `COIN`.\"\n",
    "assert(COIN.mean() == 1), \"Check your parameters for your COIN distribution.\"\n",
    "assert(EV_COIN == 1), \"Your expected value is incorrect.\"\n",
    "assert(math.isclose(COIN.std(), 2**(1/2)/2)), \"Check your parameters for your COIN distribution.\"\n",
    "print(f\"{tada} All Tests Passed! {tada}\")"
   ]
  },
  {
   "attachments": {},
   "cell_type": "markdown",
   "metadata": {},
   "source": [
    "<hr style=\"color: #DD3403;\">"
   ]
  },
  {
   "attachments": {},
   "cell_type": "markdown",
   "metadata": {},
   "source": [
    "## Random Variable #2: The Value of a Dice Roll"
   ]
  },
  {
   "attachments": {},
   "cell_type": "markdown",
   "metadata": {},
   "source": [
    "A common distribution in statistics is to model the outcome of rolling a die.  Unfortunately, binominal distributions only have the output of a zero (not successful) or a one (successful).  However, a single die has six equally likely outcomes: 1, 2, 3, 4, 5, or 6.\n",
    "\n",
    "To model this more complex event, we will use a **custom discrete distribution**."
   ]
  },
  {
   "attachments": {},
   "cell_type": "markdown",
   "metadata": {},
   "source": [
    "### Requirements of a Custom Discrete Distributions\n",
    "\n",
    "Similar to the binomial distribution, any custom discrete distribution we create must have three properties:\n",
    "\n",
    "1. The event we are modeling must have a **fixed outcome that is independent** (it does not matter what happened in the past),\n",
    "\n",
    "2. The event we are modeling must have a **probability that does not change** (no external factor changes the probability), **AND**\n",
    "\n",
    "3. The event we are modeling must have a **finite number of outcomes** (as opposed to the normal distribution that can have any possible Z-score, like 0.000332, 0.094322, or any number you can imagine; the normal distribution is NOT finite. For example: we cannot create a distribution of rolling a die that has an infinite number of sides.)"
   ]
  },
  {
   "attachments": {},
   "cell_type": "markdown",
   "metadata": {},
   "source": [
    "### Dice Distribution\n",
    "\n",
    "The following table describes the distribution of a six-sided die:\n",
    "\n",
    "| Outcome | Probability |\n",
    "| ------: | ----------: |\n",
    "| 1 | 1/6 |\n",
    "| 2 | 1/6 |\n",
    "| 3 | 1/6 |\n",
    "| 4 | 1/6 |\n",
    "| 5 | 1/6 |\n",
    "| 6 | 1/6 |"
   ]
  },
  {
   "attachments": {},
   "cell_type": "markdown",
   "metadata": {},
   "source": [
    "### Creating a Custom Discrete Distribution\n",
    "\n",
    "In Python, we must provide two parallel lists of outcomes and the probabilities, similar to the table above.  One list will contain all the outcomes and one list will contain all the probabilities.\n",
    "\n",
    "For example:\n",
    "\n",
    "> ```py\n",
    "> outcomes    = [   1,   2,   3,   4,   5,   6 ]\n",
    "> probability = [ 1/6, 1/6, 1/6, 1/6, 1/6, 1/6 ]\n",
    "> \n",
    "> # Programmers will often use a lot of extra spaces to make it line up visually,\n",
    "> # just like we did in the code above, but it is not required.\n",
    "> ```\n",
    "\n",
    "Once we have our two lists, the scipy.stats `rv_discrete` function can be used to make our distribution using the following code:\n",
    "\n",
    "> ```py\n",
    "> from scipy.stats import rv_discrete\n",
    "> DICE = rv_discrete( values=(outcomes, probability) )\n",
    "> ```\n",
    "\n",
    "Create the `DICE` distribution below:\n"
   ]
  },
  {
   "cell_type": "code",
   "execution_count": 92,
   "metadata": {},
   "outputs": [],
   "source": [
    "from scipy.stats import rv_discrete\n",
    "\n",
    "outcomes = [1, 2, 3, 4, 5, 6]\n",
    "probability = [1/6, 1/6, 1/6, 1/6, 1/6, 1/6]\n",
    "\n",
    "DICE = rv_discrete( values=(outcomes, probability) )"
   ]
  },
  {
   "attachments": {},
   "cell_type": "markdown",
   "metadata": {},
   "source": [
    "Once you have the `DICE` random variable, find the expected value and standard deviation for the `DICE` random variable:"
   ]
  },
  {
   "cell_type": "code",
   "execution_count": 93,
   "metadata": {},
   "outputs": [
    {
     "data": {
      "text/plain": [
       "3.5"
      ]
     },
     "execution_count": 93,
     "metadata": {},
     "output_type": "execute_result"
    }
   ],
   "source": [
    "# Expected Value for `DICE`:\n",
    "EV_DICE = (1/6) * (1 + 2 + 3 + 4 + 5 + 6)\n",
    "EV_DICE"
   ]
  },
  {
   "cell_type": "code",
   "execution_count": 94,
   "metadata": {},
   "outputs": [
    {
     "data": {
      "text/plain": [
       "np.float64(1.707825127659933)"
      ]
     },
     "execution_count": 94,
     "metadata": {},
     "output_type": "execute_result"
    }
   ],
   "source": [
    "# Standard Deviation for `DICE`:\n",
    "# square root of (((value - mean)^2) * probability of that value)\n",
    "MEAN_DICE = DICE.mean()\n",
    "SD_DICE = DICE.std()\n",
    "SD_DICE"
   ]
  },
  {
   "attachments": {},
   "cell_type": "markdown",
   "metadata": {},
   "source": [
    "### 🔬 Checkpoint Tests 🔬"
   ]
  },
  {
   "cell_type": "code",
   "execution_count": 95,
   "metadata": {},
   "outputs": [
    {
     "name": "stdout",
     "output_type": "stream",
     "text": [
      "🎉 All Tests Passed! 🎉\n"
     ]
    }
   ],
   "source": [
    "### TEST CASE for Random Variable #2: The Value of a Dice Roll\n",
    "tada = \"\\N{PARTY POPPER}\"\n",
    "\n",
    "import math\n",
    "assert(\"DICE\" in vars()), \"Make sure your random variable is named `DICE`.\"\n",
    "assert(EV_DICE == 3.5), \"The expected value for your distribution is incorrect.\"\n",
    "assert(math.isclose(SD_DICE, (105 / 36)**0.5)), \"The standard deviation for your distribution is incorrect.\"\n",
    "print(f\"{tada} All Tests Passed! {tada}\")"
   ]
  },
  {
   "attachments": {},
   "cell_type": "markdown",
   "metadata": {},
   "source": [
    "<hr style=\"color: #DD3403;\">"
   ]
  },
  {
   "attachments": {},
   "cell_type": "markdown",
   "metadata": {},
   "source": [
    "## Random Variable #3: Customer in a Tea Shop\n",
    "\n",
    "Let's create a distribution to model a tea shop!  When a customer arrives, we have historical data to suggest the following pattern:\n",
    "\n",
    "| Description | Outcome | Probability |\n",
    "| ----------- | ------: | ----------: |\n",
    "| Customer buys a black tea | $ 4.49 | 20% |\n",
    "| Customer buys a bubble tea | $ 5.69 | 40% |\n",
    "| Customer buys a black tea and treat | $ 7.69 | 15% |\n",
    "| Customer buys a bubble tea and treat | $ 8.89 | 15% |\n",
    "| Customer buys nothing | $ 0.00 | 10% |\n",
    "\n",
    "Create a custom discrete distribution for this tea shop called `TEA`  (if you're not sure, re-read the previous section on how to create a custom distribution).\n"
   ]
  },
  {
   "cell_type": "code",
   "execution_count": 96,
   "metadata": {},
   "outputs": [
    {
     "data": {
      "text/plain": [
       "<scipy.stats._distn_infrastructure.rv_sample at 0x28085d0a0>"
      ]
     },
     "execution_count": 96,
     "metadata": {},
     "output_type": "execute_result"
    }
   ],
   "source": [
    "from scipy.stats import rv_discrete\n",
    "\n",
    "outcome = [4.49, 5.69, 7.69, 8.89, 0.00]\n",
    "probability = [0.20, 0.40, 0.15, 0.15, 0.10]\n",
    "\n",
    "TEA = rv_discrete( values=(outcome, probability) )\n",
    "TEA"
   ]
  },
  {
   "cell_type": "markdown",
   "metadata": {},
   "source": [
    "Once you have the `TEA` distribution, find the expected value and standard deviation of this new distribution:"
   ]
  },
  {
   "cell_type": "code",
   "execution_count": 97,
   "metadata": {},
   "outputs": [
    {
     "data": {
      "text/plain": [
       "5.6610000000000005"
      ]
     },
     "execution_count": 97,
     "metadata": {},
     "output_type": "execute_result"
    }
   ],
   "source": [
    "# Expected Value for `TEA`:\n",
    "EV_TEA = (4.49 * 0.20) + (5.69 * 0.40) + (7.69 * 0.15) + (8.89 * 0.15) + 0\n",
    "EV_TEA"
   ]
  },
  {
   "cell_type": "code",
   "execution_count": 98,
   "metadata": {},
   "outputs": [
    {
     "data": {
      "text/plain": [
       "np.float64(2.379237062589603)"
      ]
     },
     "execution_count": 98,
     "metadata": {},
     "output_type": "execute_result"
    }
   ],
   "source": [
    "# Standard Deviation for `TEA`:\n",
    "SD_TEA = TEA.std()\n",
    "SD_TEA"
   ]
  },
  {
   "cell_type": "code",
   "execution_count": 99,
   "metadata": {},
   "outputs": [
    {
     "name": "stdout",
     "output_type": "stream",
     "text": [
      "🎉 All Tests Passed! 🎉\n"
     ]
    }
   ],
   "source": [
    "### TEST CASE for Random Variable #3: Customer in a Tea Shop\n",
    "tada = \"\\N{PARTY POPPER}\"\n",
    "\n",
    "import math\n",
    "assert(\"TEA\" in vars()), \"Make sure your random variable is named `TEA`.\"\n",
    "assert(math.isclose(EV_TEA, 5.661)), \"The expected value for your distribution is incorrect.\"\n",
    "assert(math.isclose(SD_TEA, 2.379237062589603)), \"The standard deviation for your distribution is incorrect.\"\n",
    "print(f\"{tada} All Tests Passed! {tada}\")"
   ]
  },
  {
   "cell_type": "markdown",
   "metadata": {},
   "source": [
    "### Analysis #1: Cumulative Distribution Function"
   ]
  },
  {
   "cell_type": "markdown",
   "metadata": {},
   "source": [
    "Run the following code to find the Cumulative Distribution Function of TEA=6:"
   ]
  },
  {
   "cell_type": "code",
   "execution_count": 100,
   "metadata": {},
   "outputs": [
    {
     "data": {
      "text/plain": [
       "np.float64(0.7000000000000001)"
      ]
     },
     "execution_count": 100,
     "metadata": {},
     "output_type": "execute_result"
    }
   ],
   "source": [
    "TEA.cdf(6)"
   ]
  },
  {
   "cell_type": "markdown",
   "metadata": {},
   "source": [
    "**Q1**: What is the real-world meaning of `TEA.cdf(6)` returning the value of `0.7` in terms of your tea shop?  Explain in at least one complete sentence the real-world significance of this to the tea shop owner  (you will not earn points for just explaining the definition of CDF)."
   ]
  },
  {
   "cell_type": "markdown",
   "metadata": {},
   "source": [
    "The real-world meaning of TEA.cdf(6) is that the probability that a customer buys 6 drinks or less is 70%. It is more likely than not that a customer will buy 6 drinks or less. That's good because a single customer buying more than 6 drinks is pretty concerning and they probably have an addiction to tea.  "
   ]
  },
  {
   "cell_type": "markdown",
   "metadata": {},
   "source": [
    "### Analysis #2: Breaking Even at the Tea Shop\n",
    "\n",
    "**Q2**: To \"break even\" and cover all the costs of your tea shop, you need to make $300 each day.  Based on the expected value of the `TEA` random variable, what is the minimum number of customers needed in a given day to \"break even\" for the day?\n",
    "\n",
    "*In your answer, make sure to explain how you arrived at this number.  You can add a new Python cell if you need to use Python to do some math.  Just saying \"11 people\" is not enough, even if the number is correct.*"
   ]
  },
  {
   "cell_type": "code",
   "execution_count": 101,
   "metadata": {},
   "outputs": [
    {
     "data": {
      "text/plain": [
       "53.003533568904594"
      ]
     },
     "execution_count": 101,
     "metadata": {},
     "output_type": "execute_result"
    }
   ],
   "source": [
    "# Use this cell to write the Python code to compute the value, and then\n",
    "# edit the Markdown cell to record your answer as a complete sentence.\n",
    "\n",
    "# expected value = 5.6610000000000005\n",
    "n = 300 / 5.66 \n",
    "n\n"
   ]
  },
  {
   "cell_type": "markdown",
   "metadata": {},
   "source": [
    "The expected value is $5.66 per customer. This means that each customer pays $5.66 for their TEA. After n customers each pay $5.66, there will be a total of $300. So to put this into math: n * 5.66 = 300 --> n = 53. Therefore the minimum number of customers needed in a given day to \"break even\" for the day is about 53 customers. "
   ]
  },
  {
   "cell_type": "markdown",
   "metadata": {},
   "source": [
    "### Analysis #3: A Busy Day at the Tea Shop"
   ]
  },
  {
   "cell_type": "markdown",
   "metadata": {},
   "source": [
    "On a busy day, you know that only 70 customers will arrive to your tea shop.  Using Python, create a DataFrame called `df_tea` that contains 70 sample customers from the tea shop.\n",
    "\n",
    "> In order to use the `rvs` function, you will need to create an instance of the `TEA` distribution.  To do this, you can use the following code:\n",
    "> ```py\n",
    "> T = TEA()\n",
    "> ```\n",
    "> ...after this, you can use `T.mean()`, `T.std()`, `T.rvs(...)`, or any other function.\n",
    "\n",
    "*You can refer back to the lecture on [Python Functions for Random Distributions](https://discovery.cs.illinois.edu/learn/Polling-Confidence-Intervals-and-Hypothesis-Testing/Python-Functions-for-Random-Distributions/) to understand how you can create a DataFrame from samples from a distribution.*"
   ]
  },
  {
   "cell_type": "code",
   "execution_count": 102,
   "metadata": {},
   "outputs": [
    {
     "data": {
      "text/html": [
       "<div>\n",
       "<style scoped>\n",
       "    .dataframe tbody tr th:only-of-type {\n",
       "        vertical-align: middle;\n",
       "    }\n",
       "\n",
       "    .dataframe tbody tr th {\n",
       "        vertical-align: top;\n",
       "    }\n",
       "\n",
       "    .dataframe thead th {\n",
       "        text-align: right;\n",
       "    }\n",
       "</style>\n",
       "<table border=\"1\" class=\"dataframe\">\n",
       "  <thead>\n",
       "    <tr style=\"text-align: right;\">\n",
       "      <th></th>\n",
       "      <th>Sample</th>\n",
       "    </tr>\n",
       "  </thead>\n",
       "  <tbody>\n",
       "    <tr>\n",
       "      <th>0</th>\n",
       "      <td>4.49</td>\n",
       "    </tr>\n",
       "    <tr>\n",
       "      <th>1</th>\n",
       "      <td>4.49</td>\n",
       "    </tr>\n",
       "    <tr>\n",
       "      <th>2</th>\n",
       "      <td>7.69</td>\n",
       "    </tr>\n",
       "    <tr>\n",
       "      <th>3</th>\n",
       "      <td>8.89</td>\n",
       "    </tr>\n",
       "    <tr>\n",
       "      <th>4</th>\n",
       "      <td>5.69</td>\n",
       "    </tr>\n",
       "    <tr>\n",
       "      <th>...</th>\n",
       "      <td>...</td>\n",
       "    </tr>\n",
       "    <tr>\n",
       "      <th>65</th>\n",
       "      <td>5.69</td>\n",
       "    </tr>\n",
       "    <tr>\n",
       "      <th>66</th>\n",
       "      <td>7.69</td>\n",
       "    </tr>\n",
       "    <tr>\n",
       "      <th>67</th>\n",
       "      <td>7.69</td>\n",
       "    </tr>\n",
       "    <tr>\n",
       "      <th>68</th>\n",
       "      <td>4.49</td>\n",
       "    </tr>\n",
       "    <tr>\n",
       "      <th>69</th>\n",
       "      <td>4.49</td>\n",
       "    </tr>\n",
       "  </tbody>\n",
       "</table>\n",
       "<p>70 rows × 1 columns</p>\n",
       "</div>"
      ],
      "text/plain": [
       "    Sample\n",
       "0     4.49\n",
       "1     4.49\n",
       "2     7.69\n",
       "3     8.89\n",
       "4     5.69\n",
       "..     ...\n",
       "65    5.69\n",
       "66    7.69\n",
       "67    7.69\n",
       "68    4.49\n",
       "69    4.49\n",
       "\n",
       "[70 rows x 1 columns]"
      ]
     },
     "execution_count": 102,
     "metadata": {},
     "output_type": "execute_result"
    }
   ],
   "source": [
    "# Create a DataFrame of 70 sample customers from the TEA distribution:\n",
    "import pandas as pd\n",
    "T = TEA() \n",
    "\n",
    "sample = T.rvs(70);  # get sample\n",
    "\n",
    "# create dataframe\n",
    "df_tea = pd.DataFrame(sample, columns=['Sample'])\n",
    "df_tea"
   ]
  },
  {
   "cell_type": "markdown",
   "metadata": {},
   "source": [
    "**Q3: How much money did your tea shop make during the busy day you just simulated?**\n",
    "\n",
    "*Use the first cell below to write the Python code to compute the value, and then edit the Markdown cell to record your answer as a complete sentence.*"
   ]
  },
  {
   "cell_type": "code",
   "execution_count": 103,
   "metadata": {},
   "outputs": [
    {
     "data": {
      "text/plain": [
       "416.25000000000006"
      ]
     },
     "execution_count": 103,
     "metadata": {},
     "output_type": "execute_result"
    }
   ],
   "source": [
    "# Use this cell to write the Python code to compute the value, and then\n",
    "# edit the Markdown cell to record your answer as a complete sentence.\n",
    "\n",
    "value = df_tea['Sample'].sum()\n",
    "value.item()\n"
   ]
  },
  {
   "cell_type": "markdown",
   "metadata": {},
   "source": [
    "The tea shop made $383.98 during the busy day I just simulated."
   ]
  },
  {
   "cell_type": "markdown",
   "metadata": {},
   "source": [
    "**Q4: Based on the expected value of the TEA variable, was this simulated day a \"good day\" (above expected value) or a \"bad day\" (below expected value)?  Use specific numbers to explain why it was a good or bad day.**\n",
    "\n",
    "*(Note: This answer is specific to your simulation and may be different from others in your group!)*\n",
    "\n"
   ]
  },
  {
   "cell_type": "markdown",
   "metadata": {},
   "source": [
    "The expected value of the TEA variable is $5.66 per customer, so with 70 customers, we would expect a total of $5.66 * 70 = $396.20. This simulated day gave us $383.98, which is less than the expected total, so this simulated day was a \"bad day\". "
   ]
  },
  {
   "attachments": {},
   "cell_type": "markdown",
   "metadata": {},
   "source": [
    "<hr style=\"color: #DD3403;\">"
   ]
  },
  {
   "attachments": {},
   "cell_type": "markdown",
   "metadata": {},
   "source": [
    "## Random Variable #4: Final Grades in DISCOVERY\n",
    "\n",
    "Finally, we want to create a random variable called `DISCOVERY` that will model the final grades for this semester in DISCOVERY.  We can use historical data to build the custom discrete random variable.\n",
    "\n",
    "We have provided you with a dataset containing the **ACTUAL** final points for all 1,045 students in DISCOVERY during the Fall 2023 semester (exactly one year ago).  Using `pandas`, read the `fa23-final-points.csv` dataset into a DataFrame and store it as `df`:"
   ]
  },
  {
   "cell_type": "code",
   "execution_count": 104,
   "metadata": {},
   "outputs": [
    {
     "data": {
      "text/html": [
       "<div>\n",
       "<style scoped>\n",
       "    .dataframe tbody tr th:only-of-type {\n",
       "        vertical-align: middle;\n",
       "    }\n",
       "\n",
       "    .dataframe tbody tr th {\n",
       "        vertical-align: top;\n",
       "    }\n",
       "\n",
       "    .dataframe thead th {\n",
       "        text-align: right;\n",
       "    }\n",
       "</style>\n",
       "<table border=\"1\" class=\"dataframe\">\n",
       "  <thead>\n",
       "    <tr style=\"text-align: right;\">\n",
       "      <th></th>\n",
       "      <th>Final Points</th>\n",
       "    </tr>\n",
       "  </thead>\n",
       "  <tbody>\n",
       "    <tr>\n",
       "      <th>0</th>\n",
       "      <td>1045</td>\n",
       "    </tr>\n",
       "    <tr>\n",
       "      <th>1</th>\n",
       "      <td>1043</td>\n",
       "    </tr>\n",
       "    <tr>\n",
       "      <th>2</th>\n",
       "      <td>1043</td>\n",
       "    </tr>\n",
       "    <tr>\n",
       "      <th>3</th>\n",
       "      <td>1036</td>\n",
       "    </tr>\n",
       "    <tr>\n",
       "      <th>4</th>\n",
       "      <td>1035</td>\n",
       "    </tr>\n",
       "    <tr>\n",
       "      <th>...</th>\n",
       "      <td>...</td>\n",
       "    </tr>\n",
       "    <tr>\n",
       "      <th>1040</th>\n",
       "      <td>598</td>\n",
       "    </tr>\n",
       "    <tr>\n",
       "      <th>1041</th>\n",
       "      <td>597</td>\n",
       "    </tr>\n",
       "    <tr>\n",
       "      <th>1042</th>\n",
       "      <td>511</td>\n",
       "    </tr>\n",
       "    <tr>\n",
       "      <th>1043</th>\n",
       "      <td>420</td>\n",
       "    </tr>\n",
       "    <tr>\n",
       "      <th>1044</th>\n",
       "      <td>231</td>\n",
       "    </tr>\n",
       "  </tbody>\n",
       "</table>\n",
       "<p>1045 rows × 1 columns</p>\n",
       "</div>"
      ],
      "text/plain": [
       "      Final Points\n",
       "0             1045\n",
       "1             1043\n",
       "2             1043\n",
       "3             1036\n",
       "4             1035\n",
       "...            ...\n",
       "1040           598\n",
       "1041           597\n",
       "1042           511\n",
       "1043           420\n",
       "1044           231\n",
       "\n",
       "[1045 rows x 1 columns]"
      ]
     },
     "execution_count": 104,
     "metadata": {},
     "output_type": "execute_result"
    }
   ],
   "source": [
    "import pandas as pd\n",
    "df = pd.read_csv(\"fa23-final-points.csv\")\n",
    "df"
   ]
  },
  {
   "cell_type": "markdown",
   "metadata": {},
   "source": [
    "### Visualize a Histogram of DISCOVERY\n",
    "\n",
    "Create a histogram of all the scores in DISCOVERY using **50 bins**:"
   ]
  },
  {
   "cell_type": "code",
   "execution_count": 105,
   "metadata": {},
   "outputs": [
    {
     "data": {
      "text/plain": [
       "<Axes: >"
      ]
     },
     "execution_count": 105,
     "metadata": {},
     "output_type": "execute_result"
    },
    {
     "data": {
      "image/png": "[encoded data removed]",
      "text/plain": [
       "<Figure size 640x480 with 1 Axes>"
      ]
     },
     "metadata": {},
     "output_type": "display_data"
    }
   ],
   "source": [
    "# Create a histogram of the all the final scores in DISCOVERY:\n",
    "df['Final Points'].hist(bins=50)"
   ]
  },
  {
   "cell_type": "markdown",
   "metadata": {},
   "source": [
    "### Counting Unique Values\n",
    "\n",
    "When you need to find the count of unique values contained in a DataFrame, the `.value_counts()` function will return a DataFrame that contains each unique value and the number of times that value appears.\n",
    "\n",
    "We'll want to reset the index to work with the data, so make sure to use `reset_index()` just like we did with groupby.  That means the full Python syntax to find all the unique values for `Final Points` is:\n",
    "\n",
    "> ```py\n",
    "> df.value_counts().reset_index()\n",
    "> ```\n",
    "\n",
    "Use this syntax to find all unique values for the `Final Points` column in `df` and assign this new DataFrame to the variable `df_courseFinalPoints`:"
   ]
  },
  {
   "cell_type": "code",
   "execution_count": 106,
   "metadata": {},
   "outputs": [
    {
     "data": {
      "text/html": [
       "<div>\n",
       "<style scoped>\n",
       "    .dataframe tbody tr th:only-of-type {\n",
       "        vertical-align: middle;\n",
       "    }\n",
       "\n",
       "    .dataframe tbody tr th {\n",
       "        vertical-align: top;\n",
       "    }\n",
       "\n",
       "    .dataframe thead th {\n",
       "        text-align: right;\n",
       "    }\n",
       "</style>\n",
       "<table border=\"1\" class=\"dataframe\">\n",
       "  <thead>\n",
       "    <tr style=\"text-align: right;\">\n",
       "      <th></th>\n",
       "      <th>Final Points</th>\n",
       "      <th>count</th>\n",
       "    </tr>\n",
       "  </thead>\n",
       "  <tbody>\n",
       "    <tr>\n",
       "      <th>0</th>\n",
       "      <td>963</td>\n",
       "      <td>15</td>\n",
       "    </tr>\n",
       "    <tr>\n",
       "      <th>1</th>\n",
       "      <td>969</td>\n",
       "      <td>14</td>\n",
       "    </tr>\n",
       "    <tr>\n",
       "      <th>2</th>\n",
       "      <td>967</td>\n",
       "      <td>13</td>\n",
       "    </tr>\n",
       "    <tr>\n",
       "      <th>3</th>\n",
       "      <td>955</td>\n",
       "      <td>13</td>\n",
       "    </tr>\n",
       "    <tr>\n",
       "      <th>4</th>\n",
       "      <td>973</td>\n",
       "      <td>13</td>\n",
       "    </tr>\n",
       "    <tr>\n",
       "      <th>...</th>\n",
       "      <td>...</td>\n",
       "      <td>...</td>\n",
       "    </tr>\n",
       "    <tr>\n",
       "      <th>259</th>\n",
       "      <td>840</td>\n",
       "      <td>1</td>\n",
       "    </tr>\n",
       "    <tr>\n",
       "      <th>260</th>\n",
       "      <td>843</td>\n",
       "      <td>1</td>\n",
       "    </tr>\n",
       "    <tr>\n",
       "      <th>261</th>\n",
       "      <td>844</td>\n",
       "      <td>1</td>\n",
       "    </tr>\n",
       "    <tr>\n",
       "      <th>262</th>\n",
       "      <td>846</td>\n",
       "      <td>1</td>\n",
       "    </tr>\n",
       "    <tr>\n",
       "      <th>263</th>\n",
       "      <td>1045</td>\n",
       "      <td>1</td>\n",
       "    </tr>\n",
       "  </tbody>\n",
       "</table>\n",
       "<p>264 rows × 2 columns</p>\n",
       "</div>"
      ],
      "text/plain": [
       "     Final Points  count\n",
       "0             963     15\n",
       "1             969     14\n",
       "2             967     13\n",
       "3             955     13\n",
       "4             973     13\n",
       "..            ...    ...\n",
       "259           840      1\n",
       "260           843      1\n",
       "261           844      1\n",
       "262           846      1\n",
       "263          1045      1\n",
       "\n",
       "[264 rows x 2 columns]"
      ]
     },
     "execution_count": 106,
     "metadata": {},
     "output_type": "execute_result"
    }
   ],
   "source": [
    "df_courseFinalPoints = df.value_counts().reset_index()\n",
    "df_courseFinalPoints"
   ]
  },
  {
   "cell_type": "code",
   "execution_count": 107,
   "metadata": {},
   "outputs": [
    {
     "name": "stdout",
     "output_type": "stream",
     "text": [
      "🎉 All Tests Passed! 🎉\n"
     ]
    }
   ],
   "source": [
    "### TEST CASE for `courseFinalPoints`\n",
    "tada = \"\\N{PARTY POPPER}\"\n",
    "\n",
    "assert(\"df_courseFinalPoints\" in vars()), \"Make sure your new DataFrame is stored in the variable `df_courseFinalPoints`.\"\n",
    "assert(\"Final Points\" in df_courseFinalPoints), \"Make sure to do .reset_index()\"\n",
    "assert(\"count\" in df_courseFinalPoints or \"0\" in df_courseFinalPoints), \"Make sure to do .reset_index()\"\n",
    "assert( len(df_courseFinalPoints) == 264), \"Your DataFrame is the wrong length.\"\n",
    "\n",
    "print(f\"{tada} All Tests Passed! {tada}\")"
   ]
  },
  {
   "cell_type": "markdown",
   "metadata": {},
   "source": [
    "### Building a Discrete Distribution for DISCOVERY\n",
    "\n",
    "Recall from Part 2 that we need to create two lists, `outcomes` and `probability`:\n",
    "\n",
    "> ```py\n",
    "> outcomes    = [   1,   2,   3,   4,   5,   6 ]\n",
    "> probability = [ 1/6, 1/6, 1/6, 1/6, 1/6, 1/6 ]\n",
    "> ```\n",
    "\n",
    "Applying this to the DataFrame you just created, the `outcomes` are the various final total points in DISCOVERY of the 1,045 students last Fall.  The `probability` is the likelihood of each outcome.  Looking at the first few rows, this means two lists of values might be:\n",
    "\n",
    "> ```py\n",
    "> # List of total final points in DISCOVERY:\n",
    "> outcomes    = [ 963, 969, 967, ... ]\n",
    ">\n",
    "> # Occurrences of each outcome:\n",
    "> occurrence   = [ 15,  14,  13, ... ]\n",
    "> ```\n",
    "\n",
    "*(Note we'll find the occurrence first, and then covert that to the final probability.)*"
   ]
  },
  {
   "cell_type": "markdown",
   "metadata": {},
   "source": [
    "### Extracting the List of Outcomes\n",
    "\n",
    "In your `df_courseFinalPoints` DataFrame, you have two columns: `Final Points` and `count` (or, on older versions of the library, just `0`).  To extract a list of values from a specific column, as a list, you'll use the `.values` method on the column.  For example, to get a list of values for the column `Illinois` from the DataFrame `df`, you can use the following code:\n",
    "\n",
    "> ```py\n",
    "> df[\"Illinois\"].values\n",
    "> ```\n",
    "\n",
    "Use your `df_courseFinalPoints` to find the list of all `outcomes` in DISCOVERY:"
   ]
  },
  {
   "cell_type": "code",
   "execution_count": 108,
   "metadata": {},
   "outputs": [
    {
     "data": {
      "text/plain": [
       "array([ 963,  969,  967,  955,  973,  953,  993,  987,  989,  972,  979,\n",
       "        983,  970,  966,  959,  990,  937,  998,  986,  996,  997,  988,\n",
       "        968,  950,  982,  980,  995,  981,  956,  965,  992, 1007,  958,\n",
       "        971,  976,  974,  926, 1000,  944,  994,  946, 1004,  943,  939,\n",
       "        936,  964,  977,  947,  949,  933,  920, 1011,  942, 1008,  931,\n",
       "        960,  961,  978,  984,  839,  941, 1020,  934,  951, 1001,  922,\n",
       "        985,  914,  912,  905, 1003,  886,  876,  940,  903,  945,  858,\n",
       "        957,  962,  952,  707, 1009, 1002,  991, 1025,  999,  930,  928,\n",
       "        875,  877,  915,  773,  927,  888, 1015,  954, 1006, 1013,  904,\n",
       "        917,  873,  913,  824, 1026, 1019,  902,  916,  870,  909,  923,\n",
       "        896, 1005, 1027, 1033,  751,  832,  975,  919,  948,  891,  812,\n",
       "        907,  774,  807,  883,  882,  929,  911, 1016,  862,  863,  932,\n",
       "        735, 1018,  785, 1012, 1017, 1043,  918,  924, 1032,  938,  935,\n",
       "        925,  841,  734,  878,  835,  847,  828,  822,  816,  805,  859,\n",
       "        860,  796,  865,  866,  910,  869,  874,  788,  880,  895,  906,\n",
       "        740,  845,  881,  897,  766,  893,  771,  885,  884,  901, 1023,\n",
       "       1014, 1028, 1029, 1031, 1010, 1035, 1036,  231,  921,  908,  737,\n",
       "        742,  743,  744,  745,  760,  762,  763,  765,  772,  776,  778,\n",
       "        779,  783,  787,  790,  791,  732,  730,  729,  669,  511,  597,\n",
       "        598,  635,  645,  648,  664,  670,  728,  678,  679,  690,  702,\n",
       "        713,  717,  723,  792,  793,  794,  871,  853,  854,  855,  856,\n",
       "        861,  864,  868,  872,  851,  887,  892,  894,  898,  899,  900,\n",
       "        420,  852,  850,  799,  821,  801,  806,  808,  810,  814,  815,\n",
       "        820,  823,  848,  829,  831,  833,  840,  843,  844,  846, 1045])"
      ]
     },
     "execution_count": 108,
     "metadata": {},
     "output_type": "execute_result"
    }
   ],
   "source": [
    "outcomes = df_courseFinalPoints[\"Final Points\"].values # each value in final points\n",
    "outcomes"
   ]
  },
  {
   "cell_type": "markdown",
   "metadata": {},
   "source": [
    "### Extracting the List of Occurrences\n",
    "\n",
    "Repeat the same process to find the list of all `occurrences`, or how many times each of the outcomes occurred:"
   ]
  },
  {
   "cell_type": "code",
   "execution_count": 109,
   "metadata": {},
   "outputs": [
    {
     "data": {
      "text/plain": [
       "array([15, 14, 13, 13, 13, 13, 12, 12, 12, 12, 12, 12, 12, 11, 11, 11, 11,\n",
       "       11, 11, 10, 10, 10, 10, 10, 10, 10,  9,  9,  9,  9,  9,  9,  9,  9,\n",
       "        9,  9,  8,  8,  8,  8,  8,  8,  8,  8,  8,  8,  7,  7,  7,  7,  7,\n",
       "        7,  7,  7,  7,  7,  7,  7,  6,  6,  6,  6,  6,  6,  6,  6,  6,  6,\n",
       "        6,  6,  6,  6,  5,  5,  5,  5,  5,  5,  5,  5,  5,  5,  5,  5,  5,\n",
       "        5,  4,  4,  4,  4,  4,  4,  4,  4,  4,  4,  4,  4,  4,  4,  4,  4,\n",
       "        4,  4,  4,  3,  3,  3,  3,  3,  3,  3,  3,  3,  3,  3,  3,  3,  3,\n",
       "        3,  3,  3,  3,  3,  3,  3,  3,  3,  3,  3,  3,  3,  3,  3,  3,  3,\n",
       "        2,  2,  2,  2,  2,  2,  2,  2,  2,  2,  2,  2,  2,  2,  2,  2,  2,\n",
       "        2,  2,  2,  2,  2,  2,  2,  2,  2,  2,  2,  2,  2,  2,  2,  2,  2,\n",
       "        2,  2,  2,  2,  2,  1,  1,  1,  1,  1,  1,  1,  1,  1,  1,  1,  1,\n",
       "        1,  1,  1,  1,  1,  1,  1,  1,  1,  1,  1,  1,  1,  1,  1,  1,  1,\n",
       "        1,  1,  1,  1,  1,  1,  1,  1,  1,  1,  1,  1,  1,  1,  1,  1,  1,\n",
       "        1,  1,  1,  1,  1,  1,  1,  1,  1,  1,  1,  1,  1,  1,  1,  1,  1,\n",
       "        1,  1,  1,  1,  1,  1,  1,  1,  1,  1,  1,  1,  1,  1,  1,  1,  1,\n",
       "        1,  1,  1,  1,  1,  1,  1,  1,  1])"
      ]
     },
     "execution_count": 109,
     "metadata": {},
     "output_type": "execute_result"
    }
   ],
   "source": [
    "occurrences = df_courseFinalPoints[\"count\"].values\n",
    "occurrences"
   ]
  },
  {
   "cell_type": "markdown",
   "metadata": {},
   "source": [
    "### Converting `occurrences` to a Probability\n",
    "\n",
    "To use this data to create a distribution, we need both the **outcome** and the **probability**.  Currently, we have the outcomes (`outcomes`), but we do not have a probability.  To convert `occurrences` to a probability, we need to divide `occurrences` by the total number of students to convert it to a probability.\n",
    "\n",
    "Create a new variable `probability` that is the `probability` for getting each value in `Final Points`.  \n",
    "\n",
    "*Hint 1: You can divide an entire list by a number, and it will divide each individual element of the list by that number; ex: `probability = counts / 10` will divide each value in `counts` by 10.*\n",
    "\n",
    "*Hint 2: To get the total number of students, think about what each value in `occurrences` represents.*"
   ]
  },
  {
   "cell_type": "code",
   "execution_count": 110,
   "metadata": {},
   "outputs": [
    {
     "data": {
      "text/plain": [
       "array([0.01435407, 0.01339713, 0.01244019, 0.01244019, 0.01244019,\n",
       "       0.01244019, 0.01148325, 0.01148325, 0.01148325, 0.01148325,\n",
       "       0.01148325, 0.01148325, 0.01148325, 0.01052632, 0.01052632,\n",
       "       0.01052632, 0.01052632, 0.01052632, 0.01052632, 0.00956938,\n",
       "       0.00956938, 0.00956938, 0.00956938, 0.00956938, 0.00956938,\n",
       "       0.00956938, 0.00861244, 0.00861244, 0.00861244, 0.00861244,\n",
       "       0.00861244, 0.00861244, 0.00861244, 0.00861244, 0.00861244,\n",
       "       0.00861244, 0.0076555 , 0.0076555 , 0.0076555 , 0.0076555 ,\n",
       "       0.0076555 , 0.0076555 , 0.0076555 , 0.0076555 , 0.0076555 ,\n",
       "       0.0076555 , 0.00669856, 0.00669856, 0.00669856, 0.00669856,\n",
       "       0.00669856, 0.00669856, 0.00669856, 0.00669856, 0.00669856,\n",
       "       0.00669856, 0.00669856, 0.00669856, 0.00574163, 0.00574163,\n",
       "       0.00574163, 0.00574163, 0.00574163, 0.00574163, 0.00574163,\n",
       "       0.00574163, 0.00574163, 0.00574163, 0.00574163, 0.00574163,\n",
       "       0.00574163, 0.00574163, 0.00478469, 0.00478469, 0.00478469,\n",
       "       0.00478469, 0.00478469, 0.00478469, 0.00478469, 0.00478469,\n",
       "       0.00478469, 0.00478469, 0.00478469, 0.00478469, 0.00478469,\n",
       "       0.00478469, 0.00382775, 0.00382775, 0.00382775, 0.00382775,\n",
       "       0.00382775, 0.00382775, 0.00382775, 0.00382775, 0.00382775,\n",
       "       0.00382775, 0.00382775, 0.00382775, 0.00382775, 0.00382775,\n",
       "       0.00382775, 0.00382775, 0.00382775, 0.00382775, 0.00382775,\n",
       "       0.00287081, 0.00287081, 0.00287081, 0.00287081, 0.00287081,\n",
       "       0.00287081, 0.00287081, 0.00287081, 0.00287081, 0.00287081,\n",
       "       0.00287081, 0.00287081, 0.00287081, 0.00287081, 0.00287081,\n",
       "       0.00287081, 0.00287081, 0.00287081, 0.00287081, 0.00287081,\n",
       "       0.00287081, 0.00287081, 0.00287081, 0.00287081, 0.00287081,\n",
       "       0.00287081, 0.00287081, 0.00287081, 0.00287081, 0.00287081,\n",
       "       0.00287081, 0.00191388, 0.00191388, 0.00191388, 0.00191388,\n",
       "       0.00191388, 0.00191388, 0.00191388, 0.00191388, 0.00191388,\n",
       "       0.00191388, 0.00191388, 0.00191388, 0.00191388, 0.00191388,\n",
       "       0.00191388, 0.00191388, 0.00191388, 0.00191388, 0.00191388,\n",
       "       0.00191388, 0.00191388, 0.00191388, 0.00191388, 0.00191388,\n",
       "       0.00191388, 0.00191388, 0.00191388, 0.00191388, 0.00191388,\n",
       "       0.00191388, 0.00191388, 0.00191388, 0.00191388, 0.00191388,\n",
       "       0.00191388, 0.00191388, 0.00191388, 0.00191388, 0.00191388,\n",
       "       0.00095694, 0.00095694, 0.00095694, 0.00095694, 0.00095694,\n",
       "       0.00095694, 0.00095694, 0.00095694, 0.00095694, 0.00095694,\n",
       "       0.00095694, 0.00095694, 0.00095694, 0.00095694, 0.00095694,\n",
       "       0.00095694, 0.00095694, 0.00095694, 0.00095694, 0.00095694,\n",
       "       0.00095694, 0.00095694, 0.00095694, 0.00095694, 0.00095694,\n",
       "       0.00095694, 0.00095694, 0.00095694, 0.00095694, 0.00095694,\n",
       "       0.00095694, 0.00095694, 0.00095694, 0.00095694, 0.00095694,\n",
       "       0.00095694, 0.00095694, 0.00095694, 0.00095694, 0.00095694,\n",
       "       0.00095694, 0.00095694, 0.00095694, 0.00095694, 0.00095694,\n",
       "       0.00095694, 0.00095694, 0.00095694, 0.00095694, 0.00095694,\n",
       "       0.00095694, 0.00095694, 0.00095694, 0.00095694, 0.00095694,\n",
       "       0.00095694, 0.00095694, 0.00095694, 0.00095694, 0.00095694,\n",
       "       0.00095694, 0.00095694, 0.00095694, 0.00095694, 0.00095694,\n",
       "       0.00095694, 0.00095694, 0.00095694, 0.00095694, 0.00095694,\n",
       "       0.00095694, 0.00095694, 0.00095694, 0.00095694, 0.00095694,\n",
       "       0.00095694, 0.00095694, 0.00095694, 0.00095694, 0.00095694,\n",
       "       0.00095694, 0.00095694, 0.00095694, 0.00095694, 0.00095694,\n",
       "       0.00095694, 0.00095694, 0.00095694, 0.00095694])"
      ]
     },
     "execution_count": 110,
     "metadata": {},
     "output_type": "execute_result"
    }
   ],
   "source": [
    "# probability = (occurrences / len(occurrences)) \n",
    "# probabilty = occurrences  / (df_courseFinalPoints[\"count\"].sum())\n",
    "probability = (occurrences / occurrences.sum()) \n",
    "probability\n",
    "\n",
    "# number of time "
   ]
  },
  {
   "cell_type": "markdown",
   "metadata": {},
   "source": [
    "### Create the DISCOVERY distribution\n",
    "\n",
    "Using `rv_discrete` (see Section 2 to refresh your memory), create the `DISCOVERY` discrete random variable:"
   ]
  },
  {
   "cell_type": "code",
   "execution_count": 111,
   "metadata": {},
   "outputs": [],
   "source": [
    "from scipy.stats import rv_discrete\n",
    "\n",
    "DISCOVERY = rv_discrete( values=(outcomes, probability))"
   ]
  },
  {
   "attachments": {},
   "cell_type": "markdown",
   "metadata": {},
   "source": [
    "### Statistic #1: Average Score\n",
    "\n",
    "Using the `DISCOVERY` distribution, what is the average score (or \"expected value\"), in points, in DISCOVERY?  Store your result in `avg_score`:"
   ]
  },
  {
   "cell_type": "code",
   "execution_count": 115,
   "metadata": {},
   "outputs": [
    {
     "data": {
      "text/plain": [
       "934.5502392344499"
      ]
     },
     "execution_count": 115,
     "metadata": {},
     "output_type": "execute_result"
    }
   ],
   "source": [
    "avg_score = DISCOVERY.mean().item()\n",
    "avg_score"
   ]
  },
  {
   "attachments": {},
   "cell_type": "markdown",
   "metadata": {},
   "source": [
    "### Statistic #2: Median Score\n",
    "\n",
    "Using the `DISCOVERY` distribution, what is the median score (the 50th percentile), in points, in DISCOVERY?  Store your result in `median_score`:"
   ]
  },
  {
   "cell_type": "code",
   "execution_count": 117,
   "metadata": {},
   "outputs": [
    {
     "data": {
      "text/plain": [
       "958.0"
      ]
     },
     "execution_count": 117,
     "metadata": {},
     "output_type": "execute_result"
    }
   ],
   "source": [
    "median_score = DISCOVERY.median().item()\n",
    "median_score"
   ]
  },
  {
   "attachments": {},
   "cell_type": "markdown",
   "metadata": {},
   "source": [
    "### Statistic #3: Earning an \"A\" in DISCOVERY\n",
    "\n",
    "What percentage of students earned an \"A\" in DISCOVERY?  Earning an \"A\" requires a student to earn 930 points.  Store the percentage of people in `pct_A`:\n",
    "\n",
    "(Not sure how to find this?  Check out the DISCOVERY page on \"Python Functions for Random Distributions\" here:\n",
    "https://discovery.cs.illinois.edu/learn/Polling-Confidence-Intervals-and-Hypothesis-Testing/Python-Functions-for-Random-Distributions/)"
   ]
  },
  {
   "cell_type": "code",
   "execution_count": 127,
   "metadata": {},
   "outputs": [
    {
     "data": {
      "text/plain": [
       "0.6813397129186605"
      ]
     },
     "execution_count": 127,
     "metadata": {},
     "output_type": "execute_result"
    }
   ],
   "source": [
    "pct_A = (1-DISCOVERY.cdf(929)).item()\n",
    "pct_A"
   ]
  },
  {
   "attachments": {},
   "cell_type": "markdown",
   "metadata": {},
   "source": [
    "### 🔬 Checkpoint Tests 🔬"
   ]
  },
  {
   "cell_type": "code",
   "execution_count": 128,
   "metadata": {},
   "outputs": [
    {
     "name": "stdout",
     "output_type": "stream",
     "text": [
      "🎉 All Tests Passed! 🎉\n"
     ]
    }
   ],
   "source": [
    "### TEST CASE for Random Variable #4: Final Scores in DISCOVERY\n",
    "tada = \"\\N{PARTY POPPER}\"\n",
    "\n",
    "import math\n",
    "assert(\"DISCOVERY\" in vars())\n",
    "assert(\"avg_score\" in vars())\n",
    "assert(math.isclose(avg_score, 934.5502392344499)), \"Your average score is incorrect.\"\n",
    "assert(math.isclose(median_score, 958)), \"Your median score is incorrect.\"\n",
    "assert(pct_A > 0.50), \"There were more than 50% As... are you sure the function is doing what you expect it to be doing?\"\n",
    "assert(not math.isclose(pct_A, 1 - 0.32248803827751177)), \"If you earn a 930, you still get an \\\"A\\\".  If looks like your solution excluded 930 as an \\\"A\\\" -- make sure to include it.\"\n",
    "assert(math.isclose(pct_A, 1 - 0.31866028708133953))\n",
    "\n",
    "assert(math.isclose(DISCOVERY.mean(), avg_score))\n",
    "\n",
    "print(f\"{tada} All Tests Passed! {tada}\")"
   ]
  },
  {
   "cell_type": "markdown",
   "metadata": {},
   "source": [
    "### Analysis: Highly Qualified CA\n",
    "\n",
    "One of many factors we look at in hiring excellent CAs for DISCOVERY is their course grade.  We find that students in the top 10% of the course are highly qualified in terms of course knowledge.\n",
    "\n",
    "**Q5: What is the minimum grade a student needs to earn in DISCOVERY in Fall 2023 to be highly qualified in terms of course knowledge?**\n",
    "\n",
    "*Use the first cell below to write the Python code to compute the value, and then edit the Markdown cell to record your answer as a complete sentence.*"
   ]
  },
  {
   "cell_type": "code",
   "execution_count": 135,
   "metadata": {},
   "outputs": [
    {
     "data": {
      "text/plain": [
       "831.0"
      ]
     },
     "execution_count": 135,
     "metadata": {},
     "output_type": "execute_result"
    }
   ],
   "source": [
    "# Edit this cell to write the Python code to compute the value, and then\n",
    "# edit the Markdown cell to record your answer as a complete sentence.\n",
    "ca_grade = DISCOVERY.ppf(0.10).item()\n",
    "ca_grade"
   ]
  },
  {
   "cell_type": "markdown",
   "metadata": {},
   "source": [
    "The minimum grade a student needs to earn in DISCOVERY in Fall 2023 to be highly qualified in terms of ocurse knowledge is 831 points. "
   ]
  },
  {
   "attachments": {},
   "cell_type": "markdown",
   "metadata": {},
   "source": [
    "<hr style=\"color: #DD3403;\">"
   ]
  },
  {
   "cell_type": "markdown",
   "metadata": {},
   "source": [
    "# Submission\n",
    "\n",
    "You're almost done!  All you need to do is to commit your lab to GitHub:\n",
    "\n",
    "1.  ⚠️ **Make certain to save your work.** ⚠️ To do this, go to **File => Save All**\n",
    "\n",
    "2.  After you have saved, exit this notebook and follow the Canvas instructions to commit this lab to your Git repository!\n",
    "\n",
    "3. Your TA will grade your submission and provide you feedback after the lab is due. :)"
   ]
  }
 ],
 "metadata": {
  "kernelspec": {
   "display_name": "Python 3",
   "language": "python",
   "name": "python3"
  },
  "language_info": {
   "codemirror_mode": {
    "name": "ipython",
    "version": 3
   },
   "file_extension": ".py",
   "mimetype": "text/x-python",
   "name": "python",
   "nbconvert_exporter": "python",
   "pygments_lexer": "ipython3",
   "version": "3.12.5"
  }
 },
 "nbformat": 4,
 "nbformat_minor": 2
}
